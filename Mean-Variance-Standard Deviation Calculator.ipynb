{
 "cells": [
  {
   "cell_type": "code",
   "execution_count": 1,
   "id": "1a632b8e-2d88-42e1-8d67-053399346338",
   "metadata": {},
   "outputs": [],
   "source": [
    "import numpy as np\n",
    "\n",
    "def calculate(input_list):\n",
    "    if len(input_list) != 9:\n",
    "        raise ValueError(\"List must contain nine numbers.\")\n",
    "    \n",
    "    # Convert input list to a 3x3 numpy array\n",
    "    array = np.array(input_list).reshape(3, 3)\n",
    "    \n",
    "    # Calculate mean, variance, standard deviation, max, min, and sum along both axes and flattened\n",
    "    calculations = {\n",
    "        'mean': [array.mean(axis=0).tolist(), array.mean(axis=1).tolist(), array.mean().tolist()],\n",
    "        'variance': [array.var(axis=0).tolist(), array.var(axis=1).tolist(), array.var().tolist()],\n",
    "        'standard deviation': [array.std(axis=0).tolist(), array.std(axis=1).tolist(), array.std().tolist()],\n",
    "        'max': [array.max(axis=0).tolist(), array.max(axis=1).tolist(), array.max().tolist()],\n",
    "        'min': [array.min(axis=0).tolist(), array.min(axis=1).tolist(), array.min().tolist()],\n",
    "        'sum': [array.sum(axis=0).tolist(), array.sum(axis=1).tolist(), array.sum().tolist()]\n",
    "    }\n",
    "\n",
    "    return calculations\n"
   ]
  },
  {
   "cell_type": "code",
   "execution_count": null,
   "id": "f6cd48da-1077-49cc-87d3-ae7d95991dbb",
   "metadata": {},
   "outputs": [],
   "source": []
  }
 ],
 "metadata": {
  "kernelspec": {
   "display_name": "Python 3 (ipykernel)",
   "language": "python",
   "name": "python3"
  },
  "language_info": {
   "codemirror_mode": {
    "name": "ipython",
    "version": 3
   },
   "file_extension": ".py",
   "mimetype": "text/x-python",
   "name": "python",
   "nbconvert_exporter": "python",
   "pygments_lexer": "ipython3",
   "version": "3.13.0"
  }
 },
 "nbformat": 4,
 "nbformat_minor": 5
}
